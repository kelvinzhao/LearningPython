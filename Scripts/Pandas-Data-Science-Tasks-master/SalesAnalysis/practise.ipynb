{
 "cells": [
  {
   "cell_type": "markdown",
   "metadata": {},
   "source": [
    "#### 引入需要的库"
   ]
  },
  {
   "cell_type": "code",
   "execution_count": null,
   "metadata": {
    "ExecuteTime": {
     "end_time": "2020-04-28T10:38:34.538372Z",
     "start_time": "2020-04-28T10:38:34.531560Z"
    }
   },
   "outputs": [],
   "source": [
    "import pandas as pd\n",
    "import os\n",
    "import matplotlib.pyplot as plt\n",
    "import pdb"
   ]
  },
  {
   "cell_type": "markdown",
   "metadata": {},
   "source": [
    "#### 将12个月的csv数据合并为一个文件"
   ]
  },
  {
   "cell_type": "code",
   "execution_count": null,
   "metadata": {
    "ExecuteTime": {
     "end_time": "2020-04-28T10:45:29.708837Z",
     "start_time": "2020-04-28T10:45:28.294824Z"
    }
   },
   "outputs": [],
   "source": [
    "#pandas 读取 csv 文件的方法 read_csv\n",
    "#file = pd.read_csv('./Sales_Data/Sales_April_2019.csv')\n",
    "fn :str = ''\n",
    "path :str = './Sales_Data/'\n",
    "all_data = pd.DataFrame()\n",
    "for fn in os.listdir(path):\n",
    "    if fn.endswith('.csv'):\n",
    "        fn = os.path.join(path,fn) # 获得文件完整路径\n",
    "        all_data = pd.concat([all_data,pd.read_csv(fn)])\n",
    "        # 注意 ⚠️ 通过 concat 之后得到的文件，index 是乱的，必须使用 reset_index() 重建 index\n",
    "print(all_data.shape)"
   ]
  },
  {
   "cell_type": "markdown",
   "metadata": {},
   "source": [
    "#### 问题1: 哪个月份销售额最高，销售额是多少？"
   ]
  },
  {
   "cell_type": "code",
   "execution_count": null,
   "metadata": {
    "ExecuteTime": {
     "end_time": "2020-04-28T06:51:44.296490Z",
     "start_time": "2020-04-28T06:51:44.289636Z"
    }
   },
   "outputs": [],
   "source": [
    "#all_data.head()"
   ]
  },
  {
   "cell_type": "markdown",
   "metadata": {},
   "source": [
    "从 Order Date 中分离出月份"
   ]
  },
  {
   "cell_type": "code",
   "execution_count": null,
   "metadata": {
    "ExecuteTime": {
     "end_time": "2020-04-28T10:45:38.824410Z",
     "start_time": "2020-04-28T10:45:38.558922Z"
    }
   },
   "outputs": [],
   "source": [
    "# 本cell 用于试验，在删除特定行数据的实现上，以下两种方法输出的结果可能会造成不一样，因为index的缘故。\n",
    "all_data = all_data.reset_index(drop=True)\n",
    "# 关键就在上面这一句，因为 all_data 以前是通过多个 csv文件concat出来的，index有重复，需要重建index 才行。\n",
    "print('all_data.shape = ')\n",
    "print(all_data.shape)\n",
    "\n",
    "# 方案1: 直接将符合条件的行保留\n",
    "all_data1 = all_data[all_data['Order Date']!='Order Date']\n",
    "\n",
    "print('\\nall_data1.shape = ')\n",
    "print(all_data1.shape)\n",
    "\n",
    "# 方案2: 获得不符合条件的行，drop掉\n",
    "# 注意：all_data 是通过多个 csv文件 concat出来的，不重建index的话，\n",
    "# 这里得到的index实际数据中可能会出现多个，所以drop掉355个index，实际上将删除更多的行。\n",
    "uselessrows = all_data[all_data['Order Date']=='Order Date'].index\n",
    "\n",
    "print('\\nlen of uselessrows = ')\n",
    "print(len(uselessrows))\n",
    "\n",
    "all_data2 = all_data.drop(uselessrows)\n",
    "\n",
    "print('\\nall_data2.shape = ')\n",
    "print(all_data2.shape)\n",
    "\n"
   ]
  },
  {
   "cell_type": "code",
   "execution_count": null,
   "metadata": {
    "ExecuteTime": {
     "end_time": "2020-04-28T10:46:31.087243Z",
     "start_time": "2020-04-28T10:45:43.063918Z"
    }
   },
   "outputs": [],
   "source": [
    "# 将 Order Date 列转为 Date 类型\n",
    "# 执行all_data['Order Date'] = pd.to_datetime(all_data['Order Date']) 失败\n",
    "# 发现有字符串‘Order Date’，应该是合并数据时的表头行，找出来删掉\n",
    "all_data = all_data[all_data['Order Date']!='Order Date']\n",
    "# 此时应该删掉了\n",
    "all_data['Order Date'] = pd.to_datetime(all_data['Order Date']) \n",
    "# all_data.head()\n",
    "# 新建一列 月份\n",
    "all_data['Month'] = all_data['Order Date'].dt.month #为何返回的是浮点数？\n",
    "# 将浮点数转为整形，执行 all_data['Month'] = all_data['Month'].astype('int32') 失败，提示有NA数据\n",
    "# 尝试找出有NA数据的行\n",
    "#uselessrows = all_data[all_data.isna()]\n",
    "#uselessrows.head()\n",
    "all_data = all_data.dropna(how='all') # 这里参数how='all'，只有所有列都是Na，才能删除。\n",
    "# 此时应该已经删除Na数据，重新执行月份转整形操作\n",
    "all_data['Month'] = all_data['Month'].astype('int32')\n",
    "#all_data.head()\n",
    "# 成功！\n",
    "print(all_data.shape)"
   ]
  },
  {
   "cell_type": "markdown",
   "metadata": {},
   "source": [
    "按照月份汇总"
   ]
  },
  {
   "cell_type": "code",
   "execution_count": null,
   "metadata": {
    "ExecuteTime": {
     "end_time": "2020-04-28T11:17:43.368980Z",
     "start_time": "2020-04-28T11:17:25.576523Z"
    }
   },
   "outputs": [],
   "source": [
    "# 数据中销售数量和单价都是字符，需要先转成数字\n",
    "all_data['Quantity Ordered'] = pd.to_numeric(all_data['Quantity Ordered'])\n",
    "all_data['Price Each'] = pd.to_numeric(all_data['Price Each'])\n",
    "\n",
    "all_data['Sales'] = all_data.apply(lambda x:x['Quantity Ordered']*x['Price Each'],axis=1)\n",
    "grouped = all_data.groupby('Month')\n",
    "sales = grouped['Sales'].sum()\n",
    "months = range(1,13)\n",
    "plt.bar(months,sales)\n",
    "plt.xticks(months)\n",
    "plt.xlabel('Month')\n",
    "plt.ylabel('Sales')\n",
    "plt.show()"
   ]
  },
  {
   "cell_type": "markdown",
   "metadata": {},
   "source": [
    "#### 问题2：哪个城市的销售额最高？"
   ]
  },
  {
   "cell_type": "code",
   "execution_count": null,
   "metadata": {
    "ExecuteTime": {
     "end_time": "2020-04-28T06:52:22.418983Z",
     "start_time": "2020-04-28T06:52:22.411513Z"
    }
   },
   "outputs": [],
   "source": [
    "#all_data.head()"
   ]
  },
  {
   "cell_type": "markdown",
   "metadata": {},
   "source": [
    "思路就是从 Purchase Address 中分离出不重复的 City，在 groupby， 取 Sales 合计，画直方图"
   ]
  },
  {
   "cell_type": "code",
   "execution_count": null,
   "metadata": {
    "ExecuteTime": {
     "start_time": "2020-04-28T11:19:08.737Z"
    }
   },
   "outputs": [],
   "source": [
    "# 从 Purchase Address 中分离出不重复的 city\n",
    "# 测试\n",
    "#all_data['Purchase Address'].apply(lambda x:x.split(', ')[1] + ', ' +x.split(', ')[2].split(' ')[0]).head()\n",
    "# 测试通过，增加新列\n",
    "all_data['City'] = all_data['Purchase Address'].apply(lambda x:x.split(', ')[1] + ', ' +x.split(', ')[2].split(' ')[0])\n",
    "# groupby, sum\n",
    "grouped_by_city = all_data[['Sales','City']].groupby('City')\n",
    "cities = [a for a,b in grouped_by_city]  \n",
    "# 上面循环中之所以是 a for a,b ，是因为 grouped_by_city 是由键值对儿组成的\n",
    "#for key, values in grouped_by_city:\n",
    "#    print(values, \"\\n\\n\")\n",
    "\n",
    "sales_city = grouped_by_city['Sales'].sum()\n",
    "plt.bar(cities,sales_city)\n",
    "plt.xticks(rotation='vertical')\n",
    "plt.xlabel('City name')\n",
    "plt.ylabel('Sales in USD')\n",
    "plt.show()"
   ]
  },
  {
   "cell_type": "markdown",
   "metadata": {},
   "source": [
    "#### 问题3: 什么时间段应该打广告？"
   ]
  },
  {
   "cell_type": "markdown",
   "metadata": {},
   "source": [
    "思路：根据下单时间，根据几点钟汇总出订单数量，画曲线图"
   ]
  },
  {
   "cell_type": "code",
   "execution_count": null,
   "metadata": {
    "ExecuteTime": {
     "end_time": "2020-04-28T06:52:23.098027Z",
     "start_time": "2020-04-28T06:52:23.062950Z"
    }
   },
   "outputs": [],
   "source": [
    "all_data.head()"
   ]
  },
  {
   "cell_type": "code",
   "execution_count": null,
   "metadata": {
    "ExecuteTime": {
     "end_time": "2020-04-28T06:52:23.156947Z",
     "start_time": "2020-04-28T06:52:23.105131Z"
    }
   },
   "outputs": [],
   "source": [
    "# 增加出“小时” 列\n",
    "# 测试\n",
    "# print(all_data['Order Date'].dt.hour)\n",
    "all_data['Hour'] = all_data['Order Date'].dt.hour\n",
    "all_data.head()"
   ]
  },
  {
   "cell_type": "code",
   "execution_count": null,
   "metadata": {
    "ExecuteTime": {
     "end_time": "2020-04-28T06:52:23.473932Z",
     "start_time": "2020-04-28T06:52:23.171278Z"
    }
   },
   "outputs": [],
   "source": [
    "# 根据 Hour 进行 groupby， 对 Quantity Ordered 求和\n",
    "grouped_by_hour = all_data[['Quantity Ordered','Hour']].groupby('Hour')\n",
    "num_ordered = grouped_by_hour['Quantity Ordered'].sum()\n",
    "hours = [hour for hour,x in grouped_by_hour]\n",
    "plt.plot(hours,num_ordered,'r-')\n",
    "plt.xticks(hours)\n",
    "plt.xlabel('Hour')\n",
    "plt.ylabel('Quantity Ordered')\n",
    "plt.grid(axis='y')\n",
    "plt.show()"
   ]
  },
  {
   "cell_type": "markdown",
   "metadata": {},
   "source": [
    "#### 问题4：哪些产品经常一起卖出？"
   ]
  },
  {
   "cell_type": "code",
   "execution_count": null,
   "metadata": {
    "ExecuteTime": {
     "end_time": "2020-04-28T06:52:23.512448Z",
     "start_time": "2020-04-28T06:52:23.477291Z"
    }
   },
   "outputs": [],
   "source": [
    "all_data.head()"
   ]
  },
  {
   "cell_type": "markdown",
   "metadata": {},
   "source": [
    "思路：如果是一起卖出的，那么订单号就是相同的，"
   ]
  },
  {
   "cell_type": "code",
   "execution_count": null,
   "metadata": {
    "ExecuteTime": {
     "end_time": "2020-04-28T06:52:23.529449Z",
     "start_time": "2020-04-28T06:52:23.519293Z"
    }
   },
   "outputs": [],
   "source": [
    "# 先把 Order ID 重复的列出来看看\n",
    "#pd.concat(g for _, g in all_data[['Order ID','Product']].groupby(\"Order ID\") if len(g) > 1)\n",
    "# 上面这句话执行太慢了，换个思路"
   ]
  },
  {
   "cell_type": "code",
   "execution_count": null,
   "metadata": {
    "ExecuteTime": {
     "end_time": "2020-04-28T06:52:27.306041Z",
     "start_time": "2020-04-28T06:52:23.538345Z"
    }
   },
   "outputs": [],
   "source": [
    "thedata = all_data.copy() # 这里不想修改 all_data，所以复制了一下\n",
    "thedata = thedata[thedata['Order ID'].duplicated(keep=False)] # 只保留订单号重复的数据\n",
    "# https://pandas.pydata.org/pandas-docs/stable/reference/api/pandas.Series.duplicated.html\n",
    "# keep{‘first’, ‘last’, False}, default ‘first’\n",
    "#    Determines which duplicates (if any) to mark.\n",
    "#     first : 重复的数据中，第一个为 False，其余为 True\n",
    "#     last : 重复的数据中，最后一个为 False，其余为 True\n",
    "#     False : 重复的数据中，全部设为 True\n",
    "thedata['Grouped'] = thedata.groupby('Order ID')['Product'].transform(lambda x:','.join(x))\n",
    "thedata = thedata.drop_duplicates(['Order ID','Grouped'])\n",
    "thedata.head()"
   ]
  },
  {
   "cell_type": "markdown",
   "metadata": {},
   "source": [
    "注意⚠️，这里不能直接写成 thedata = all_data , 因为 Python 中一切皆对象，直接赋值实际上是「传址」，\n",
    "详见 https://www.zhihu.com/question/26614862"
   ]
  },
  {
   "cell_type": "code",
   "execution_count": null,
   "metadata": {
    "ExecuteTime": {
     "end_time": "2020-04-28T06:52:27.413239Z",
     "start_time": "2020-04-28T06:52:27.310323Z"
    }
   },
   "outputs": [],
   "source": [
    "# Referenced: https://stackoverflow.com/questions/52195887/counting-unique-pairs-of-numbers-into-a-python-dictionary\n",
    "from itertools import combinations\n",
    "from collections import Counter\n",
    "count = Counter()\n",
    "for row in thedata['Grouped']:\n",
    "    row_list = row.split(',')\n",
    "    count.update(Counter(combinations(row_list,2)))\n",
    "for key, value in count.most_common(10):\n",
    "    print(key,value)"
   ]
  },
  {
   "cell_type": "markdown",
   "metadata": {
    "ExecuteTime": {
     "end_time": "2020-04-28T06:37:22.242005Z",
     "start_time": "2020-04-28T06:37:20.628653Z"
    }
   },
   "source": [
    "#### 问题5：什么产品卖的最好，为什么？"
   ]
  },
  {
   "cell_type": "code",
   "execution_count": null,
   "metadata": {
    "ExecuteTime": {
     "end_time": "2020-04-28T10:44:57.784112Z",
     "start_time": "2020-04-28T10:44:57.753214Z"
    }
   },
   "outputs": [],
   "source": [
    "all_data.head()"
   ]
  },
  {
   "cell_type": "markdown",
   "metadata": {},
   "source": [
    "思路：按照产品groupby，然后对Quantity Ordered求和。\n",
    "至于回答为什么，可以在同一个图里展示单价曲线图Price Each，看出单价和销量的关系。"
   ]
  },
  {
   "cell_type": "code",
   "execution_count": null,
   "metadata": {
    "ExecuteTime": {
     "end_time": "2020-04-28T10:45:10.711599Z",
     "start_time": "2020-04-28T10:45:10.605434Z"
    }
   },
   "outputs": [],
   "source": [
    "# groupby product 并对销量求和\n",
    "grouped_product_quantity = all_data.groupby('Product')['Quantity Ordered'].sum()\n",
    "products = [product for product,_ in all_data.groupby('Product')]\n",
    "# groupby product 并对单价求平均值\n",
    "each_price = all_data.groupby('Product')['Price Each'].mean()\n",
    "\n",
    "fig, ax1 = plt.subplots()\n",
    "ax2 = ax1.twinx()\n",
    "ax1.bar(products,grouped_product_quantity)\n",
    "ax2.plot(products,each_price,'y-')\n",
    "ax1.set_xlabel('Product')\n",
    "ax1.set_xticklabels(products,rotation='vertical')\n",
    "#ax1.grid(axis='y',color='w',linewidth=1,alpha=0.2)\n",
    "ax1.set_axisbelow(True)\n",
    "ax1.grid(b=None,axis='x')\n",
    "ax2.grid()\n",
    "plt.show()"
   ]
  },
  {
   "cell_type": "markdown",
   "metadata": {},
   "source": [
    "#### End"
   ]
  }
 ],
 "metadata": {
  "hide_input": false,
  "kernelspec": {
   "display_name": "Python 3",
   "language": "python",
   "name": "python3"
  },
  "language_info": {
   "codemirror_mode": {
    "name": "ipython",
    "version": 3
   },
   "file_extension": ".py",
   "mimetype": "text/x-python",
   "name": "python",
   "nbconvert_exporter": "python",
   "pygments_lexer": "ipython3",
   "version": "3.7.6"
  },
  "toc": {
   "base_numbering": 1,
   "nav_menu": {
    "height": "115px",
    "width": "462px"
   },
   "number_sections": true,
   "sideBar": true,
   "skip_h1_title": false,
   "title_cell": "Table of Contents",
   "title_sidebar": "Contents",
   "toc_cell": false,
   "toc_position": {},
   "toc_section_display": true,
   "toc_window_display": false
  },
  "varInspector": {
   "cols": {
    "lenName": 16,
    "lenType": 16,
    "lenVar": 40
   },
   "kernels_config": {
    "python": {
     "delete_cmd_postfix": "",
     "delete_cmd_prefix": "del ",
     "library": "var_list.py",
     "varRefreshCmd": "print(var_dic_list())"
    },
    "r": {
     "delete_cmd_postfix": ") ",
     "delete_cmd_prefix": "rm(",
     "library": "var_list.r",
     "varRefreshCmd": "cat(var_dic_list()) "
    }
   },
   "position": {
    "height": "359px",
    "left": "698px",
    "right": "20px",
    "top": "-1px",
    "width": "673px"
   },
   "types_to_exclude": [
    "module",
    "function",
    "builtin_function_or_method",
    "instance",
    "_Feature"
   ],
   "window_display": false
  }
 },
 "nbformat": 4,
 "nbformat_minor": 4
}
